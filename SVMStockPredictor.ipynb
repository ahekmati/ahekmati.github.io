{
  "nbformat": 4,
  "nbformat_minor": 0,
  "metadata": {
    "colab": {
      "name": "SVMStockPredictor.ipynb",
      "provenance": [],
      "authorship_tag": "ABX9TyO1yuNOhuh2R84V00UJqBt/",
      "include_colab_link": true
    },
    "kernelspec": {
      "name": "python3",
      "display_name": "Python 3"
    }
  },
  "cells": [
    {
      "cell_type": "markdown",
      "metadata": {
        "id": "view-in-github",
        "colab_type": "text"
      },
      "source": [
        "<a href=\"https://colab.research.google.com/github/ahekmati/ahekmati.github.io/blob/master/SVMStockPredictor.ipynb\" target=\"_parent\"><img src=\"https://colab.research.google.com/assets/colab-badge.svg\" alt=\"Open In Colab\"/></a>"
      ]
    },
    {
      "cell_type": "code",
      "metadata": {
        "id": "VYOfbwd9QJVH",
        "colab_type": "code",
        "colab": {}
      },
      "source": [
        "import csv\n",
        "import numpy as np \n",
        "from sklearn.svm import SVR\n",
        "import matplotlib.pyplot as plt"
      ],
      "execution_count": 0,
      "outputs": []
    },
    {
      "cell_type": "code",
      "metadata": {
        "id": "gRqWDXOQMrkY",
        "colab_type": "code",
        "colab": {}
      },
      "source": [
        "dates = []\n",
        "prices = []\n",
        "\n",
        "def get_data(filename):\n",
        "  with open(filename, 'r') as csvfile:\n",
        "    csvFileReader = csv.reader(csvfile)\n",
        "    next(csvFileReader)\n",
        "    for row in csvFileReader:\n",
        "      dates.append(int(row[0].split('-')[0]))\n",
        "      prices.append(float(row[1]))\n",
        "  return \n",
        "\n"
      ],
      "execution_count": 0,
      "outputs": []
    },
    {
      "cell_type": "code",
      "metadata": {
        "id": "P5I8_c7iP5Ed",
        "colab_type": "code",
        "colab": {}
      },
      "source": [
        "def predict_prices(dates, prices, x):\n",
        "  dates = np.reshape(dates, (len(dates), 1))\n",
        "\n",
        "  svr_lin = SVR(kernel = 'linear', C = 1e3)\n",
        "  svr_poly = SVR(kernel = 'poly', C=1e3)\n",
        "  svr_rbf = SVR(kernel = 'rbf', C = 1e3, gamma=0.1)\n",
        "  svr_lin.fit(dates, prices)\n",
        "  svr_poly.fit(dates, prices)\n",
        "  svr_rbr.fit(dates, prices)\n",
        "\n",
        "  plt.scatter(dates, prices, color='black', label='Data')\n",
        "  plt.plot(dates, svr_rbf.predict(dates), color='red', label='RBF Model')\n",
        "  plt.plot(dates, svr_lin.predict(dates), color = 'green', label='Linear Model')\n",
        "  plt.plot(dates, svr_poly.predict(dates), color='blue', label='Polynomial Model')\n",
        "\n",
        "  plt.xlabel('Date')\n",
        "  plt.ylabel('Price')\n",
        "  plt.title('Support Vector Regression')\n",
        "  plt.legend()\n",
        "  plt.show()\n",
        "\n",
        "  return svr_rbf.predict(x)[0], svr_lin.predict(x)[0], svr_poly.predict(x)[0]\n",
        "\n",
        "\n",
        "get_data('AAPL.csv')"
      ],
      "execution_count": 0,
      "outputs": []
    },
    {
      "cell_type": "code",
      "metadata": {
        "id": "ooRI-tVSWIQP",
        "colab_type": "code",
        "colab": {}
      },
      "source": [
        "predicted_price = predict_prices(dates, prices, 29)\n",
        "\n",
        "print(predicted_price)"
      ],
      "execution_count": 0,
      "outputs": []
    },
    {
      "cell_type": "code",
      "metadata": {
        "id": "QXtScXWRWCve",
        "colab_type": "code",
        "colab": {}
      },
      "source": [
        ""
      ],
      "execution_count": 0,
      "outputs": []
    },
    {
      "cell_type": "code",
      "metadata": {
        "id": "vwxy50f3MiQt",
        "colab_type": "code",
        "colab": {}
      },
      "source": [
        ""
      ],
      "execution_count": 0,
      "outputs": []
    }
  ]
}